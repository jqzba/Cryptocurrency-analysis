{
  "nbformat": 4,
  "nbformat_minor": 0,
  "metadata": {
    "colab": {
      "name": "Cryptopredict.ipynb",
      "provenance": [],
      "authorship_tag": "ABX9TyM01jp1HjTnHuwkP7TvOZWn",
      "include_colab_link": true
    },
    "kernelspec": {
      "name": "python3",
      "display_name": "Python 3"
    },
    "language_info": {
      "name": "python"
    }
  },
  "cells": [
    {
      "cell_type": "markdown",
      "metadata": {
        "id": "view-in-github",
        "colab_type": "text"
      },
      "source": [
        "<a href=\"https://colab.research.google.com/github/jqzba/Cryptocurrency-analysis/blob/main/Cryptopredict.ipynb\" target=\"_parent\"><img src=\"https://colab.research.google.com/assets/colab-badge.svg\" alt=\"Open In Colab\"/></a>"
      ]
    },
    {
      "cell_type": "code",
      "execution_count": null,
      "metadata": {
        "colab": {
          "base_uri": "https://localhost:8080/"
        },
        "id": "RxYNa2ZsOVvW",
        "outputId": "a815cd53-a2ed-4033-f706-89b4e9ce4dd8"
      },
      "outputs": [
        {
          "output_type": "stream",
          "name": "stdout",
          "text": [
            "Collecting yfinance\n",
            "  Downloading yfinance-0.1.70-py2.py3-none-any.whl (26 kB)\n",
            "Collecting lxml>=4.5.1\n",
            "  Downloading lxml-4.8.0-cp37-cp37m-manylinux_2_17_x86_64.manylinux2014_x86_64.manylinux_2_24_x86_64.whl (6.4 MB)\n",
            "\u001b[K     |████████████████████████████████| 6.4 MB 7.9 MB/s \n",
            "\u001b[?25hRequirement already satisfied: pandas>=0.24.0 in /usr/local/lib/python3.7/dist-packages (from yfinance) (1.3.5)\n",
            "Requirement already satisfied: multitasking>=0.0.7 in /usr/local/lib/python3.7/dist-packages (from yfinance) (0.0.10)\n",
            "Requirement already satisfied: numpy>=1.15 in /usr/local/lib/python3.7/dist-packages (from yfinance) (1.21.6)\n",
            "Collecting requests>=2.26\n",
            "  Downloading requests-2.27.1-py2.py3-none-any.whl (63 kB)\n",
            "\u001b[K     |████████████████████████████████| 63 kB 1.6 MB/s \n",
            "\u001b[?25hRequirement already satisfied: pytz>=2017.3 in /usr/local/lib/python3.7/dist-packages (from pandas>=0.24.0->yfinance) (2022.1)\n",
            "Requirement already satisfied: python-dateutil>=2.7.3 in /usr/local/lib/python3.7/dist-packages (from pandas>=0.24.0->yfinance) (2.8.2)\n",
            "Requirement already satisfied: six>=1.5 in /usr/local/lib/python3.7/dist-packages (from python-dateutil>=2.7.3->pandas>=0.24.0->yfinance) (1.15.0)\n",
            "Requirement already satisfied: certifi>=2017.4.17 in /usr/local/lib/python3.7/dist-packages (from requests>=2.26->yfinance) (2021.10.8)\n",
            "Requirement already satisfied: urllib3<1.27,>=1.21.1 in /usr/local/lib/python3.7/dist-packages (from requests>=2.26->yfinance) (1.24.3)\n",
            "Requirement already satisfied: charset-normalizer~=2.0.0 in /usr/local/lib/python3.7/dist-packages (from requests>=2.26->yfinance) (2.0.12)\n",
            "Requirement already satisfied: idna<4,>=2.5 in /usr/local/lib/python3.7/dist-packages (from requests>=2.26->yfinance) (2.10)\n",
            "Installing collected packages: requests, lxml, yfinance\n",
            "  Attempting uninstall: requests\n",
            "    Found existing installation: requests 2.23.0\n",
            "    Uninstalling requests-2.23.0:\n",
            "      Successfully uninstalled requests-2.23.0\n",
            "  Attempting uninstall: lxml\n",
            "    Found existing installation: lxml 4.2.6\n",
            "    Uninstalling lxml-4.2.6:\n",
            "      Successfully uninstalled lxml-4.2.6\n",
            "\u001b[31mERROR: pip's dependency resolver does not currently take into account all the packages that are installed. This behaviour is the source of the following dependency conflicts.\n",
            "google-colab 1.0.0 requires requests~=2.23.0, but you have requests 2.27.1 which is incompatible.\n",
            "datascience 0.10.6 requires folium==0.2.1, but you have folium 0.8.3 which is incompatible.\u001b[0m\n",
            "Successfully installed lxml-4.8.0 requests-2.27.1 yfinance-0.1.70\n",
            "[*********************100%***********************]  1 of 1 completed\n",
            "0      2018-01-01\n",
            "1      2018-01-02\n",
            "2      2018-01-03\n",
            "3      2018-01-04\n",
            "4      2018-01-05\n",
            "          ...    \n",
            "1586   2022-05-06\n",
            "1587   2022-05-07\n",
            "1588   2022-05-08\n",
            "1589   2022-05-09\n",
            "1590   2022-05-11\n",
            "Name: Date, Length: 1591, dtype: datetime64[ns]\n"
          ]
        }
      ],
      "source": [
        "import pandas as pd \n",
        "import numpy as np\n",
        "\n",
        "!pip install yfinance\n",
        "from google.colab import files\n",
        "\n",
        "import yfinance as yf\n",
        "from datetime import datetime\n",
        "from datetime import timedelta\n",
        "\n",
        "#load the data\n",
        "\n",
        "today = datetime.today().strftime('%Y-%m-%d')\n",
        "start_date = '2018-01-01'\n",
        "eth_df = yf.download('ETH-USD',start_date, today)\n",
        "eth_df.tail()\n",
        "eth_df = eth_df.reset_index()\n",
        "\n",
        "print(eth_df.iloc[:, 0])"
      ]
    },
    {
      "cell_type": "code",
      "source": [
        "main_df = pd.DataFrame()\n",
        "\n",
        "\n",
        "ratios = [\"BTC-USD\", \"ETH-USD\", \"LINK-USD\"]\n",
        "\n",
        "for i in ratios:\n",
        "  df = yf.download(i,start_date, today)\n",
        "  df = df.reset_index()\n",
        "  df.rename(columns={\"Close\": f\"{i}_close\", \"Volume\":f\"{i}_volume\"}, inplace=True)\n",
        "  \n",
        "  \n",
        "  print(list(df.columns))\n",
        "  df = df[['Date', f\"{i}_close\", f\"{i}_volume\"]]\n",
        "  \n",
        "\n",
        "  if len(main_df) == 0:\n",
        "    main_df = df\n",
        "    print(\"jee\")\n",
        "  else:\n",
        "    main_df.Date.astype(int)\n",
        "    main_df = main_df.merge(df, on='Date', how='left')\n",
        "    print(df)\n",
        "\n",
        "print(main_df.tail())\n",
        "\n"
      ],
      "metadata": {
        "colab": {
          "base_uri": "https://localhost:8080/"
        },
        "id": "gQONhA7-PIDu",
        "outputId": "c42abc2d-34fe-4321-f5ef-9e221cf43c4a"
      },
      "execution_count": null,
      "outputs": [
        {
          "output_type": "stream",
          "name": "stdout",
          "text": [
            "[*********************100%***********************]  1 of 1 completed\n",
            "['Date', 'Open', 'High', 'Low', 'BTC-USD_close', 'Adj Close', 'BTC-USD_volume']\n",
            "jee\n",
            "[*********************100%***********************]  1 of 1 completed\n",
            "['Date', 'Open', 'High', 'Low', 'ETH-USD_close', 'Adj Close', 'ETH-USD_volume']\n",
            "           Date  ETH-USD_close  ETH-USD_volume\n",
            "0    2018-01-01     772.640991      2595760128\n",
            "1    2018-01-02     884.443970      5783349760\n",
            "2    2018-01-03     962.719971      5093159936\n",
            "3    2018-01-04     980.921997      6502859776\n",
            "4    2018-01-05     997.719971      6683149824\n",
            "...         ...            ...             ...\n",
            "1586 2022-05-06    2694.979736     21027599270\n",
            "1587 2022-05-07    2636.093018     13369276367\n",
            "1588 2022-05-08    2517.459961     20802269935\n",
            "1589 2022-05-09    2245.430420     36333567678\n",
            "1590 2022-05-11    2356.415283     37408894976\n",
            "\n",
            "[1591 rows x 3 columns]\n",
            "[*********************100%***********************]  1 of 1 completed"
          ]
        },
        {
          "output_type": "stream",
          "name": "stderr",
          "text": [
            "/usr/local/lib/python3.7/dist-packages/ipykernel_launcher.py:20: FutureWarning: casting datetime64[ns] values to int64 with .astype(...) is deprecated and will raise in a future version. Use .view(...) instead.\n",
            "/usr/local/lib/python3.7/dist-packages/ipykernel_launcher.py:20: FutureWarning: casting datetime64[ns] values to int64 with .astype(...) is deprecated and will raise in a future version. Use .view(...) instead.\n"
          ]
        },
        {
          "output_type": "stream",
          "name": "stdout",
          "text": [
            "\n",
            "['Date', 'Open', 'High', 'Low', 'LINK-USD_close', 'Adj Close', 'LINK-USD_volume']\n",
            "           Date  LINK-USD_close  LINK-USD_volume\n",
            "0    2018-01-01        0.733563         11506300\n",
            "1    2018-01-02        0.673712         12671100\n",
            "2    2018-01-03        0.681167          8620400\n",
            "3    2018-01-04        0.984368         24679000\n",
            "4    2018-01-05        0.907486         23599300\n",
            "...         ...             ...              ...\n",
            "1586 2022-05-06       10.799844        507557055\n",
            "1587 2022-05-07       10.239905        354478668\n",
            "1588 2022-05-08        9.990030        427837348\n",
            "1589 2022-05-09        8.272897        844443662\n",
            "1590 2022-05-11        8.666528        972119616\n",
            "\n",
            "[1591 rows x 3 columns]\n",
            "           Date  BTC-USD_close  BTC-USD_volume  ETH-USD_close  ETH-USD_volume  \\\n",
            "1586 2022-05-06   36040.921875     37795577489    2694.979736     21027599270   \n",
            "1587 2022-05-07   35501.953125     24375896406    2636.093018     13369276367   \n",
            "1588 2022-05-08   34059.265625     36763041910    2517.459961     20802269935   \n",
            "1589 2022-05-09   30296.953125     63355494961    2245.430420     36333567678   \n",
            "1590 2022-05-11   31162.587891     58667958272    2356.415283     37408894976   \n",
            "\n",
            "      LINK-USD_close  LINK-USD_volume  \n",
            "1586       10.799844        507557055  \n",
            "1587       10.239905        354478668  \n",
            "1588        9.990030        427837348  \n",
            "1589        8.272897        844443662  \n",
            "1590        8.666528        972119616  \n"
          ]
        }
      ]
    },
    {
      "cell_type": "code",
      "source": [
        "import os\n",
        "from sklearn import preprocessing\n",
        "from collections import deque\n",
        "\n",
        "SEQ_LEN = 60\n",
        "FUTURE_PERIOD_PREDICT = 5\n",
        "RATIO_TO_PREDICT = \"LINK-USD\"\n",
        "\n",
        "def classify(current, future):\n",
        "  if float(future) > float(current):\n",
        "    return 1\n",
        "  else:\n",
        "    return 0\n",
        "\n",
        "def preprocess_df(df):\n",
        "  df = df.drop('future', 1)\n",
        "\n",
        "  for col in df.columns: \n",
        "    if col != \"target\":\n",
        "\n",
        "      #df.set_index('Date')\n",
        "      #df[col] = df[col].pct_change().apply(lambda x: np.log(x+1)).cov\n",
        "      df.drop(['Date'], axis=1)\n",
        "      df.dropna(inplace=True)\n",
        "      df[col] = preprocessing.scale(df[col].values)\n",
        "\n",
        "  df.dropna(inplace=True)\n",
        "\n",
        "  sequential_data = []\n",
        "  prev_days = deque(maxlen=SEQ_LEN)\n",
        "  print(df.head())\n",
        "\n",
        "  for c in df.columns:\n",
        "    print(c) \n",
        "\n",
        "\n",
        "\n",
        "main_df['future'] = main_df[f\"{RATIO_TO_PREDICT}_close\"].shift(-FUTURE_PERIOD_PREDICT)\n",
        "\n",
        "main_df['target'] = list(map(classify, main_df[f\"{RATIO_TO_PREDICT}_close\"], main_df[\"future\"]))\n",
        "\n",
        "#print(main_df[[f\"{RATIO_TO_PREDICT}_close\", \"future\", \"target\"]].head(10))\n",
        "\n",
        "times=sorted(main_df.index.values)\n",
        "\n",
        "last_5pct = times[-int(0.05*len(times))]\n",
        "\n",
        "print(last_5pct)\n",
        "\n",
        "validation_main_df = main_df[(main_df.index >= last_5pct)]\n",
        "validation_main_df = main_df[(main_df.index < last_5pct)]\n",
        "\n",
        "\n",
        "train_x, train_y = preprocess_df(main_df)\n",
        "validation_x, validation_y = preprocess_df(main_df)\n",
        "\n",
        "\n"
      ],
      "metadata": {
        "colab": {
          "base_uri": "https://localhost:8080/",
          "height": 832
        },
        "id": "fRH7eNkMhVtm",
        "outputId": "9435911a-1c85-40b8-d2df-416b9394c8d0"
      },
      "execution_count": null,
      "outputs": [
        {
          "output_type": "stream",
          "name": "stdout",
          "text": [
            "1512\n",
            "       Date  BTC-USD_close  BTC-USD_volume  ETH-USD_close  ETH-USD_volume  \\\n",
            "0 -1.730960      -0.361938       -0.764001      -0.258273       -0.929006   \n",
            "1 -1.728782      -0.288830       -0.443853      -0.170583       -0.642948   \n",
            "2 -1.726605      -0.276751       -0.442618      -0.109189       -0.704886   \n",
            "3 -1.724428      -0.254778       -0.202764      -0.094912       -0.578378   \n",
            "4 -1.722251      -0.153781       -0.102272      -0.081737       -0.562199   \n",
            "\n",
            "   LINK-USD_close  LINK-USD_volume  target  \n",
            "0       -0.798134        -0.182473       1  \n",
            "1       -0.803525        -0.182206       1  \n",
            "2       -0.802853        -0.183135       1  \n",
            "3       -0.775543        -0.179453       1  \n",
            "4       -0.782468        -0.179701       1  \n",
            "Date\n",
            "BTC-USD_close\n",
            "BTC-USD_volume\n",
            "ETH-USD_close\n",
            "ETH-USD_volume\n",
            "LINK-USD_close\n",
            "LINK-USD_volume\n",
            "target\n"
          ]
        },
        {
          "output_type": "stream",
          "name": "stderr",
          "text": [
            "/usr/local/lib/python3.7/dist-packages/ipykernel_launcher.py:16: FutureWarning: In a future version of pandas all arguments of DataFrame.drop except for the argument 'labels' will be keyword-only\n",
            "  app.launch_new_instance()\n",
            "/usr/local/lib/python3.7/dist-packages/sklearn/preprocessing/_data.py:236: UserWarning: Numerical issues were encountered when centering the data and might not be solved. Dataset may contain too large values. You may need to prescale your features.\n",
            "  \"Numerical issues were encountered \"\n",
            "/usr/local/lib/python3.7/dist-packages/sklearn/preprocessing/_data.py:236: UserWarning: Numerical issues were encountered when centering the data and might not be solved. Dataset may contain too large values. You may need to prescale your features.\n",
            "  \"Numerical issues were encountered \"\n",
            "/usr/local/lib/python3.7/dist-packages/sklearn/preprocessing/_data.py:236: UserWarning: Numerical issues were encountered when centering the data and might not be solved. Dataset may contain too large values. You may need to prescale your features.\n",
            "  \"Numerical issues were encountered \"\n",
            "/usr/local/lib/python3.7/dist-packages/sklearn/preprocessing/_data.py:236: UserWarning: Numerical issues were encountered when centering the data and might not be solved. Dataset may contain too large values. You may need to prescale your features.\n",
            "  \"Numerical issues were encountered \"\n"
          ]
        },
        {
          "output_type": "error",
          "ename": "TypeError",
          "evalue": "ignored",
          "traceback": [
            "\u001b[0;31m---------------------------------------------------------------------------\u001b[0m",
            "\u001b[0;31mTypeError\u001b[0m                                 Traceback (most recent call last)",
            "\u001b[0;32m<ipython-input-7-bd7457f1cca4>\u001b[0m in \u001b[0;36m<module>\u001b[0;34m()\u001b[0m\n\u001b[1;32m     52\u001b[0m \u001b[0;34m\u001b[0m\u001b[0m\n\u001b[1;32m     53\u001b[0m \u001b[0;34m\u001b[0m\u001b[0m\n\u001b[0;32m---> 54\u001b[0;31m \u001b[0mtrain_x\u001b[0m\u001b[0;34m,\u001b[0m \u001b[0mtrain_y\u001b[0m \u001b[0;34m=\u001b[0m \u001b[0mpreprocess_df\u001b[0m\u001b[0;34m(\u001b[0m\u001b[0mmain_df\u001b[0m\u001b[0;34m)\u001b[0m\u001b[0;34m\u001b[0m\u001b[0;34m\u001b[0m\u001b[0m\n\u001b[0m\u001b[1;32m     55\u001b[0m \u001b[0mvalidation_x\u001b[0m\u001b[0;34m,\u001b[0m \u001b[0mvalidation_y\u001b[0m \u001b[0;34m=\u001b[0m \u001b[0mpreprocess_df\u001b[0m\u001b[0;34m(\u001b[0m\u001b[0mmain_df\u001b[0m\u001b[0;34m)\u001b[0m\u001b[0;34m\u001b[0m\u001b[0;34m\u001b[0m\u001b[0m\n\u001b[1;32m     56\u001b[0m \u001b[0;34m\u001b[0m\u001b[0m\n",
            "\u001b[0;31mTypeError\u001b[0m: cannot unpack non-iterable NoneType object"
          ]
        }
      ]
    },
    {
      "cell_type": "code",
      "source": [
        ""
      ],
      "metadata": {
        "id": "QxTQtnAihPzZ"
      },
      "execution_count": null,
      "outputs": []
    }
  ]
}